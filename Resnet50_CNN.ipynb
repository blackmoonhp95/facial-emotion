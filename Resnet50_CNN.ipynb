{
 "cells": [
  {
   "cell_type": "code",
   "execution_count": 1,
   "id": "attached-julian",
   "metadata": {},
   "outputs": [],
   "source": [
    "import tensorflow as tf\n",
    "from tensorflow.keras.layers import Conv2D, MaxPooling2D, Flatten, Dense, BatchNormalization, Dropout\n",
    "from tensorflow.keras.models import Sequential\n",
    "from tensorflow.keras.preprocessing import image\n",
    "from tensorflow.keras.preprocessing.image import ImageDataGenerator\n",
    "from tensorflow.keras.applications import ResNet50\n",
    "from tensorflow.keras.applications.resnet50 import preprocess_input"
   ]
  },
  {
   "cell_type": "code",
   "execution_count": 11,
   "id": "electric-payroll",
   "metadata": {},
   "outputs": [
    {
     "name": "stdout",
     "output_type": "stream",
     "text": [
      "Found 28707 images belonging to 7 classes.\n",
      "Found 7175 images belonging to 7 classes.\n"
     ]
    }
   ],
   "source": [
    "gen = ImageDataGenerator(preprocessing_function=preprocess_input,\n",
    "                           rescale=1/255, validation_split=0.2,\n",
    "                           rotation_range=40, \n",
    "                           width_shift_range=0.2,\n",
    "                           height_shift_range=0.2,\n",
    "                           shear_range=0.2,\n",
    "                           zoom_range=0.2,\n",
    "                           horizontal_flip=True, \n",
    "                           fill_mode='nearest')\n",
    "\n",
    "img_train = gen.flow_from_directory('Dataset\\Training', target_size=(48, 48), batch_size=256, \n",
    "                                          class_mode='categorical', subset='training')\n",
    "img_valid = gen.flow_from_directory('Dataset\\Training', target_size=(48, 48), batch_size=256, \n",
    "                                          class_mode='categorical', subset='validation')"
   ]
  },
  {
   "cell_type": "code",
   "execution_count": 12,
   "id": "approved-method",
   "metadata": {},
   "outputs": [],
   "source": [
    "model = Sequential()\n",
    "model.add(ResNet50(include_top=False, pooling='avg', weights='imagenet'))\n",
    "model.add(Dense(7, activation='softmax'))"
   ]
  },
  {
   "cell_type": "code",
   "execution_count": 13,
   "id": "latter-subsection",
   "metadata": {},
   "outputs": [],
   "source": [
    "model.layers[0].trainable = False"
   ]
  },
  {
   "cell_type": "code",
   "execution_count": 14,
   "id": "secondary-graphic",
   "metadata": {},
   "outputs": [
    {
     "name": "stdout",
     "output_type": "stream",
     "text": [
      "Model: \"sequential_1\"\n",
      "_________________________________________________________________\n",
      "Layer (type)                 Output Shape              Param #   \n",
      "=================================================================\n",
      "resnet50 (Functional)        (None, 2048)              23587712  \n",
      "_________________________________________________________________\n",
      "dense_1 (Dense)              (None, 7)                 14343     \n",
      "=================================================================\n",
      "Total params: 23,602,055\n",
      "Trainable params: 14,343\n",
      "Non-trainable params: 23,587,712\n",
      "_________________________________________________________________\n"
     ]
    }
   ],
   "source": [
    "model.summary()"
   ]
  },
  {
   "cell_type": "code",
   "execution_count": 15,
   "id": "gorgeous-heater",
   "metadata": {},
   "outputs": [],
   "source": [
    "model.compile(optimizer='adam', loss='categorical_crossentropy', metrics=['accuracy'])"
   ]
  },
  {
   "cell_type": "code",
   "execution_count": null,
   "id": "surface-closing",
   "metadata": {},
   "outputs": [
    {
     "name": "stdout",
     "output_type": "stream",
     "text": [
      "Epoch 1/20\n",
      "113/113 [==============================] - 231s 2s/step - loss: 1.9975 - accuracy: 0.1491 - val_loss: 1.9432 - val_accuracy: 0.1608\n",
      "Epoch 2/20\n",
      "113/113 [==============================] - 234s 2s/step - loss: 1.9381 - accuracy: 0.1712 - val_loss: 1.9374 - val_accuracy: 0.1635\n",
      "Epoch 3/20\n",
      "113/113 [==============================] - 232s 2s/step - loss: 1.9414 - accuracy: 0.1693 - val_loss: 1.9421 - val_accuracy: 0.1748\n",
      "Epoch 4/20\n",
      "113/113 [==============================] - 216s 2s/step - loss: 1.9320 - accuracy: 0.1851 - val_loss: 1.9324 - val_accuracy: 0.1849\n",
      "Epoch 5/20\n",
      "113/113 [==============================] - 216s 2s/step - loss: 1.9306 - accuracy: 0.1809 - val_loss: 1.9268 - val_accuracy: 0.1932\n",
      "Epoch 6/20\n",
      "113/113 [==============================] - 202s 2s/step - loss: 1.9234 - accuracy: 0.1949 - val_loss: 1.9307 - val_accuracy: 0.1788\n",
      "Epoch 7/20\n",
      " 19/113 [====>.........................] - ETA: 2:24 - loss: 1.9243 - accuracy: 0.1896"
     ]
    }
   ],
   "source": [
    "history = model.fit(img_train, epochs=20, validation_data=img_valid)"
   ]
  }
 ],
 "metadata": {
  "kernelspec": {
   "display_name": "Python 3",
   "language": "python",
   "name": "python3"
  },
  "language_info": {
   "codemirror_mode": {
    "name": "ipython",
    "version": 3
   },
   "file_extension": ".py",
   "mimetype": "text/x-python",
   "name": "python",
   "nbconvert_exporter": "python",
   "pygments_lexer": "ipython3",
   "version": "3.8.7"
  }
 },
 "nbformat": 4,
 "nbformat_minor": 5
}
